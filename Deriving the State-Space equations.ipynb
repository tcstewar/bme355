{
 "cells": [
  {
   "cell_type": "markdown",
   "metadata": {},
   "source": [
    "Given:\n",
    "\n",
    "$y(t)=x(t_1)\\Phi(t, t_1) + \\int_{t_1}^t g(t, \\tau)u(\\tau)d\\tau  ~~~~~~~~~~$ (for $t \\ge t_1$)\n",
    "\n",
    "Where:\n",
    " - $\\Phi(t, t_1)$ is the output value at time $t$ if the state $x$ is 1 at time $t_1$ and $u=0$ for all time (zero-input response)\n",
    " - $g(t, \\tau)$ is the output value at time $t$ for an input $u$ pulse at time $\\tau$ with state $x=0$ (zero-state response)\n",
    " - and note that we are not assuming LTI\n",
    "\n",
    "\n",
    "It is also true that\n",
    "\n",
    "$y(t)=x(t_1+\\Delta t)\\Phi(t, t_1+\\Delta t) + \\int_{t_1+\\Delta t}^t g(t, \\tau)u(\\tau)d\\tau$\n",
    "\n",
    "So if we equate those and let $x(t_1+\\Delta t) = x(t_1) + \\Delta x$, we get\n",
    "\n",
    "$x(t_1)\\Phi(t, t_1) + \\int_{t_1}^t g(t, \\tau)u(\\tau)d\\tau = (x(t_1) +\\Delta x)\\Phi(t, t_1+\\Delta t) + \\int_{t_1+\\Delta t}^t g(t, \\tau)u(\\tau)d\\tau$\n",
    "\n",
    "$\\int_{t_1}^t g(t, \\tau)u(\\tau)d\\tau - \\int_{t_1+\\Delta t}^t g(t, \\tau)u(\\tau)d\\tau= (x(t_1) +\\Delta x)\\Phi(t, t_1+\\Delta t) - x(t_1)\\Phi(t, t_1) $\n",
    "\n",
    "\n",
    "$\\int_{t_1}^{t_1+\\Delta t} g(t, \\tau)u(\\tau)d\\tau = (x(t_1) +\\Delta x)\\Phi(t, t_1+\\Delta t) - x(t_1)\\Phi(t, t_1) $\n",
    "\n",
    "$\\int_{t_1}^{t_1+\\Delta t} g(t, \\tau)u(\\tau)d\\tau = x(t_1)(\\Phi(t, t_1+\\Delta t) - \\Phi(t, t_1)) +\\Delta x\\Phi(t, t_1+\\Delta t)$\n",
    "\n",
    "Divide by $\\Delta t$ and let $\\Delta t \\rightarrow 0$\n",
    "\n",
    "$g(t, t_1)u(t_1) = x(t_1)\\dot\\Phi(t, t_1) + \\dot x (t_1) \\Phi(t, t_1)$\n",
    "\n",
    "This holds for all $t \\ge t_1$, so if we just consider $ t = t_1$ and rearrange:\n",
    "\n",
    "$\\dot x(t) \\Phi(t, t) = -x(t)\\dot\\Phi(t, t) + g(t, t) u(t)$\n",
    "\n",
    "And then we can subsitute $A(t)=-\\dot\\Phi(t,t)/\\Phi(t,t)$ and $B(t)=g(t,t)/\\Phi(t,t)$:\n",
    "\n",
    "$\\dot x(t) = A(t)x(t) + B(t) u(t)$\n",
    "\n",
    "\n",
    "\n"
   ]
  },
  {
   "cell_type": "markdown",
   "metadata": {},
   "source": [
    "## Or, let's do that more elegantly:\n",
    "\n",
    "$y(t)=x(t_1)\\Phi(t, t_1) + \\int_{t_1}^t g(t, \\tau)u(\\tau)d\\tau  ~~~~~~~~~~$ (for $t \\ge t_1$)\n",
    "\n",
    "This holds for any choice of $t_1$.  So, the derivative of $y(t)$ with respect to $t_1$ must be zero.\n",
    "\n",
    "$0 = \\dot x(t_1) \\Phi(t, t_1) + x (t_1) \\dot \\Phi(t, t_1) - g(t, t_1)u(t_1)$\n",
    "\n",
    "This holds for all $t \\ge t_1$, so if we just consider $ t = t_1$ and rearrange:\n",
    "\n",
    "$\\dot x(t) \\Phi(t, t) = -x(t)\\dot\\Phi(t, t) + g(t, t) u(t)$\n",
    "\n",
    "And then we can subsitute $A(t)=-\\dot\\Phi(t,t)/\\Phi(t,t)$ and $B(t)=g(t,t)/\\Phi(t,t)$:\n",
    "\n",
    "$\\dot x(t) = A(t)x(t) + B(t) u(t)$"
   ]
  },
  {
   "cell_type": "code",
   "execution_count": null,
   "metadata": {
    "collapsed": true
   },
   "outputs": [],
   "source": []
  }
 ],
 "metadata": {
  "kernelspec": {
   "display_name": "Python 3",
   "language": "python",
   "name": "python3"
  },
  "language_info": {
   "codemirror_mode": {
    "name": "ipython",
    "version": 3
   },
   "file_extension": ".py",
   "mimetype": "text/x-python",
   "name": "python",
   "nbconvert_exporter": "python",
   "pygments_lexer": "ipython3",
   "version": "3.6.1"
  }
 },
 "nbformat": 4,
 "nbformat_minor": 2
}
